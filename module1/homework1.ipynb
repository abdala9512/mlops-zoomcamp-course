{
 "cells": [
  {
   "cell_type": "markdown",
   "id": "d87a7549-1e9d-43ca-8a83-dd012a3a14bd",
   "metadata": {},
   "source": [
    "# MLOps Zoomcamp 2023 - Homework #1\n",
    "## Miguel Arquez Abdala"
   ]
  },
  {
   "cell_type": "code",
   "execution_count": 1,
   "id": "920cbe72-2606-4aa3-a5ee-be295d5d0749",
   "metadata": {},
   "outputs": [],
   "source": [
    "import pandas as pd\n",
    "from sklearn.feature_extraction import DictVectorizer\n",
    "from sklearn.linear_model import LinearRegression\n",
    "from sklearn.metrics import mean_squared_error"
   ]
  },
  {
   "cell_type": "code",
   "execution_count": 3,
   "id": "a0fff461-0ac1-4440-ba84-7050c3e7c3c3",
   "metadata": {},
   "outputs": [],
   "source": [
    "train_filename = \"./yellow_tripdata_2022-01.parquet\"\n",
    "validation_filename = \"./yellow_tripdata_2022-02.parquet\"\n",
    "categorical_variables = [\"PULocationID\", \"DOLocationID\"]\n",
    "\n",
    "def process_dataframe(filename: str) -> pd.DataFrame:\n",
    "    data =  pd.read_parquet(filename)\n",
    "    data[\"duration\"] = ( data[\"tpep_dropoff_datetime\"] - data[\"tpep_pickup_datetime\"]) / pd.Timedelta('60s')\n",
    "    data = data[ (data[\"duration\"] >= 1) & (data[\"duration\"] <= 60) ]\n",
    "    data[categorical_variables] = data[categorical_variables].astype(str) \n",
    "    \n",
    "    return data"
   ]
  },
  {
   "cell_type": "markdown",
   "id": "13aa1c5b-e92c-4c3a-b8ca-eb2d311f3486",
   "metadata": {},
   "source": [
    "# Question 1: Number of columns in Jan 2022 Yellow Taxi Trip data"
   ]
  },
  {
   "cell_type": "code",
   "execution_count": 5,
   "id": "4da01b57-3d29-4bf3-9634-0be9d25903bd",
   "metadata": {},
   "outputs": [
    {
     "data": {
      "text/plain": [
       "19"
      ]
     },
     "execution_count": 5,
     "metadata": {},
     "output_type": "execute_result"
    }
   ],
   "source": [
    "jan =  pd.read_parquet(train_filename)\n",
    "len(jan.columns)"
   ]
  },
  {
   "cell_type": "markdown",
   "id": "381c5ed6-dfc7-4cb8-8ee5-3a8c65c840bb",
   "metadata": {},
   "source": [
    "# Question 2:  Standard deviation of the trips duration in Jan 2022 Yellow Taxi Trip data"
   ]
  },
  {
   "cell_type": "code",
   "execution_count": 6,
   "id": "c5f97f8a-1252-4c57-bd15-ef663ee838f8",
   "metadata": {},
   "outputs": [
    {
     "data": {
      "text/plain": [
       "46.45"
      ]
     },
     "execution_count": 6,
     "metadata": {},
     "output_type": "execute_result"
    }
   ],
   "source": [
    "jan[\"duration\"] = ( jan[\"tpep_dropoff_datetime\"] - jan[\"tpep_pickup_datetime\"]) / pd.Timedelta('60s')\n",
    "round(jan[\"duration\"].std(),2)"
   ]
  },
  {
   "cell_type": "markdown",
   "id": "fa90a6f3-aedb-44e3-83db-9b727d0b980c",
   "metadata": {},
   "source": [
    "# Question 3: Fraction of the records left after dropping the outliers"
   ]
  },
  {
   "cell_type": "code",
   "execution_count": 6,
   "id": "9593bd06-a5b0-48fb-b4e1-52f132f0b4b3",
   "metadata": {},
   "outputs": [],
   "source": [
    "train_df = process_dataframe(filename=train_filename)"
   ]
  },
  {
   "cell_type": "code",
   "execution_count": 7,
   "id": "80f312f4-1395-4e10-83e1-ca3bf3fa8c3f",
   "metadata": {},
   "outputs": [
    {
     "data": {
      "text/plain": [
       "98.28"
      ]
     },
     "execution_count": 7,
     "metadata": {},
     "output_type": "execute_result"
    }
   ],
   "source": [
    "round((train_df.shape[0] / jan.shape[0]) * 100 , 2) "
   ]
  },
  {
   "cell_type": "code",
   "execution_count": 8,
   "id": "62c1c8ec-a5ad-4d1e-be4a-f4362fd21641",
   "metadata": {},
   "outputs": [],
   "source": [
    "del jan"
   ]
  },
  {
   "cell_type": "markdown",
   "id": "8287e181-f271-4866-94ca-484437e93021",
   "metadata": {},
   "source": [
    "# Question 4: Dimensionality after OHE"
   ]
  },
  {
   "cell_type": "code",
   "execution_count": 9,
   "id": "a5c4946e-487b-4fc3-9f98-17a92971450e",
   "metadata": {},
   "outputs": [],
   "source": [
    "train_dictionary = train_df[categorical_variables].to_dict(orient=\"records\")"
   ]
  },
  {
   "cell_type": "code",
   "execution_count": 10,
   "id": "2e905948-d5e3-4a33-a6b8-9b50c60ec4ff",
   "metadata": {},
   "outputs": [],
   "source": [
    "dv = DictVectorizer()\n",
    "x_train = dv.fit_transform(train_dictionary)"
   ]
  },
  {
   "cell_type": "code",
   "execution_count": 19,
   "id": "ec2c2de3-bd80-4111-b054-30ca7249400e",
   "metadata": {},
   "outputs": [
    {
     "data": {
      "text/plain": [
       "<2421440x515 sparse matrix of type '<class 'numpy.float64'>'\n",
       "\twith 4842880 stored elements in Compressed Sparse Row format>"
      ]
     },
     "execution_count": 19,
     "metadata": {},
     "output_type": "execute_result"
    }
   ],
   "source": [
    "x_train"
   ]
  },
  {
   "cell_type": "markdown",
   "id": "e627e5dc-eb92-4ac3-905d-4a2a0995df64",
   "metadata": {},
   "source": [
    "# Question 5: RMSE on train"
   ]
  },
  {
   "cell_type": "code",
   "execution_count": 11,
   "id": "a548bfcc-48fa-4238-8b38-4159f50bfdde",
   "metadata": {},
   "outputs": [],
   "source": [
    "y_train = train_df[\"duration\"].values"
   ]
  },
  {
   "cell_type": "code",
   "execution_count": 12,
   "id": "f08cd77f-9432-464e-9962-96274d841eaf",
   "metadata": {},
   "outputs": [
    {
     "data": {
      "text/plain": [
       "LinearRegression()"
      ]
     },
     "execution_count": 12,
     "metadata": {},
     "output_type": "execute_result"
    }
   ],
   "source": [
    "lr = LinearRegression()\n",
    "lr.fit(x_train, y_train)"
   ]
  },
  {
   "cell_type": "code",
   "execution_count": 13,
   "id": "426ede34-25a2-4419-8369-8889833ece55",
   "metadata": {},
   "outputs": [],
   "source": [
    "predictions = lr.predict(x_train)"
   ]
  },
  {
   "cell_type": "code",
   "execution_count": 14,
   "id": "b8a8f8df-4b5a-4d71-b67c-e0dd01a6b252",
   "metadata": {},
   "outputs": [
    {
     "data": {
      "text/plain": [
       "6.986190135971076"
      ]
     },
     "execution_count": 14,
     "metadata": {},
     "output_type": "execute_result"
    }
   ],
   "source": [
    "mean_squared_error(y_train, predictions, squared=False)"
   ]
  },
  {
   "cell_type": "markdown",
   "id": "38d76167-1f7c-4c12-a40b-73aa3d07bcd4",
   "metadata": {},
   "source": [
    "# Question 6: RMSE on validation\n"
   ]
  },
  {
   "cell_type": "code",
   "execution_count": 15,
   "id": "16c0731e-5b94-48e3-bfd4-73eadb575021",
   "metadata": {},
   "outputs": [],
   "source": [
    "validation_df = process_dataframe(filename=validation_filename)\n",
    "\n",
    "validation_dictionary = validation_df[categorical_variables].to_dict(orient=\"records\")\n",
    "x_test = dv.transform(validation_dictionary)"
   ]
  },
  {
   "cell_type": "code",
   "execution_count": 17,
   "id": "10276654-c2c7-48ee-96d0-be8854ba4743",
   "metadata": {},
   "outputs": [],
   "source": [
    "y_test = validation_df[\"duration\"].values"
   ]
  },
  {
   "cell_type": "code",
   "execution_count": 18,
   "id": "7256b245-14a8-4d7a-96ef-91cff67a733b",
   "metadata": {},
   "outputs": [
    {
     "data": {
      "text/plain": [
       "7.786389478135331"
      ]
     },
     "execution_count": 18,
     "metadata": {},
     "output_type": "execute_result"
    }
   ],
   "source": [
    "feb_predictions = lr.predict(x_test)\n",
    "mean_squared_error(y_test, feb_predictions, squared=False)"
   ]
  },
  {
   "cell_type": "code",
   "execution_count": null,
   "id": "f8c147c0-10b7-43ef-899e-4ea573d695a8",
   "metadata": {},
   "outputs": [],
   "source": []
  }
 ],
 "metadata": {
  "kernelspec": {
   "display_name": "Python 3",
   "language": "python",
   "name": "python3"
  },
  "language_info": {
   "codemirror_mode": {
    "name": "ipython",
    "version": 3
   },
   "file_extension": ".py",
   "mimetype": "text/x-python",
   "name": "python",
   "nbconvert_exporter": "python",
   "pygments_lexer": "ipython3",
   "version": "3.8.8"
  }
 },
 "nbformat": 4,
 "nbformat_minor": 5
}
